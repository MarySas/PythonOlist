{
 "cells": [
  {
   "cell_type": "code",
   "execution_count": 1,
   "id": "18c8a3ee",
   "metadata": {},
   "outputs": [],
   "source": [
    "## 6. Linear Regression Sales Prediction"
   ]
  },
  {
   "cell_type": "code",
   "execution_count": 2,
   "id": "b22a7ad2",
   "metadata": {},
   "outputs": [],
   "source": [
    "### This script contains the following:\n",
    "\n",
    "#### 1. Importing libraries and data\n",
    "#### 2. Data cleaning\n",
    "#### 3. Data prep for regression analysis\n",
    "#### 4. Regression analysis\n"
   ]
  },
  {
   "cell_type": "code",
   "execution_count": 3,
   "id": "2b3c79be",
   "metadata": {},
   "outputs": [],
   "source": [
    "### 1. Importing libraries and data"
   ]
  },
  {
   "cell_type": "code",
   "execution_count": 4,
   "id": "01b6ee5c",
   "metadata": {},
   "outputs": [],
   "source": [
    "import pandas as pd\n",
    "import numpy as np\n",
    "import seaborn as sns\n",
    "import matplotlib\n",
    "import matplotlib.pyplot as plt\n",
    "import datetime\n",
    "import os\n",
    "import sklearn\n",
    "from sklearn.model_selection import train_test_split \n",
    "from sklearn.linear_model import LinearRegression\n",
    "from sklearn.metrics import mean_squared_error, r2_score\n",
    "from sklearn import linear_model\n"
   ]
  },
  {
   "cell_type": "code",
   "execution_count": 5,
   "id": "8b0206f5",
   "metadata": {},
   "outputs": [],
   "source": [
    "# This option ensures that the graphs you create are displayed within the notebook without the need to \"call\" them specifically.\n",
    "\n",
    "%matplotlib inline"
   ]
  },
  {
   "cell_type": "code",
   "execution_count": 6,
   "id": "d7c2c38b",
   "metadata": {},
   "outputs": [],
   "source": [
    "path = r'C:\\Users\\Mary\\Desktop\\Data Analyst CF\\Part 6\\02 Data\\Prepared Data'"
   ]
  },
  {
   "cell_type": "code",
   "execution_count": 7,
   "id": "a562f2a5",
   "metadata": {},
   "outputs": [],
   "source": [
    "df = pd.read_csv(os.path.join(path, 'dfcorrelations.csv'), index_col = 0)"
   ]
  },
  {
   "cell_type": "code",
   "execution_count": 8,
   "id": "51df31e9",
   "metadata": {},
   "outputs": [],
   "source": [
    "pd.options.display.max_columns = None\n"
   ]
  },
  {
   "cell_type": "code",
   "execution_count": 9,
   "id": "f40be839",
   "metadata": {},
   "outputs": [
    {
     "data": {
      "text/html": [
       "<div>\n",
       "<style scoped>\n",
       "    .dataframe tbody tr th:only-of-type {\n",
       "        vertical-align: middle;\n",
       "    }\n",
       "\n",
       "    .dataframe tbody tr th {\n",
       "        vertical-align: top;\n",
       "    }\n",
       "\n",
       "    .dataframe thead th {\n",
       "        text-align: right;\n",
       "    }\n",
       "</style>\n",
       "<table border=\"1\" class=\"dataframe\">\n",
       "  <thead>\n",
       "    <tr style=\"text-align: right;\">\n",
       "      <th></th>\n",
       "      <th>product_id</th>\n",
       "      <th>product_name_lenght</th>\n",
       "      <th>product_description_lenght</th>\n",
       "      <th>product_photos_qty</th>\n",
       "      <th>product_weight_g</th>\n",
       "      <th>product_length_cm</th>\n",
       "      <th>product_height_cm</th>\n",
       "      <th>product_width_cm</th>\n",
       "      <th>order_id</th>\n",
       "      <th>order_item_id</th>\n",
       "      <th>seller_id</th>\n",
       "      <th>shipping_limit_date</th>\n",
       "      <th>price</th>\n",
       "      <th>freight_value</th>\n",
       "      <th>zip_code_prefix_customer</th>\n",
       "      <th>lat_customer</th>\n",
       "      <th>lng_customer</th>\n",
       "      <th>customer_city</th>\n",
       "      <th>customer_state</th>\n",
       "      <th>payment_sequential</th>\n",
       "      <th>payment_type</th>\n",
       "      <th>payment_installments</th>\n",
       "      <th>payment_value</th>\n",
       "      <th>customer_id</th>\n",
       "      <th>order_status</th>\n",
       "      <th>order_purchase_timestamp</th>\n",
       "      <th>order_approved_at</th>\n",
       "      <th>order_delivered_carrier_date</th>\n",
       "      <th>order_delivered_customer_date</th>\n",
       "      <th>order_estimated_delivery_date</th>\n",
       "      <th>review_id</th>\n",
       "      <th>review_score</th>\n",
       "      <th>customer_unique_id</th>\n",
       "      <th>zip_code_prefix_seller</th>\n",
       "      <th>lat_seller</th>\n",
       "      <th>lng_seller</th>\n",
       "      <th>seller_city</th>\n",
       "      <th>seller_state</th>\n",
       "      <th>product_category_name</th>\n",
       "      <th>review_category</th>\n",
       "      <th>freight_flag</th>\n",
       "      <th>pur_del</th>\n",
       "      <th>start_date</th>\n",
       "      <th>end_date</th>\n",
       "      <th>n_of_days</th>\n",
       "      <th>distance</th>\n",
       "    </tr>\n",
       "  </thead>\n",
       "  <tbody>\n",
       "    <tr>\n",
       "      <th>0</th>\n",
       "      <td>1e9e8ef04dbcff4541ed26657ea517e5</td>\n",
       "      <td>40.0</td>\n",
       "      <td>287.0</td>\n",
       "      <td>1.0</td>\n",
       "      <td>225.0</td>\n",
       "      <td>16.0</td>\n",
       "      <td>10.0</td>\n",
       "      <td>14.0</td>\n",
       "      <td>e17e4f88e31525f7deef66779844ddce</td>\n",
       "      <td>1</td>\n",
       "      <td>5670f4db5b62c43d542e1b2d56b0cf7c</td>\n",
       "      <td>2018-04-30 17:33:54</td>\n",
       "      <td>10.91</td>\n",
       "      <td>7.39</td>\n",
       "      <td>3694</td>\n",
       "      <td>-23.537922</td>\n",
       "      <td>-46.477696</td>\n",
       "      <td>sao paulo</td>\n",
       "      <td>SP</td>\n",
       "      <td>1</td>\n",
       "      <td>debit_card</td>\n",
       "      <td>1</td>\n",
       "      <td>18.30</td>\n",
       "      <td>f8a3e963a310aa58b60a5b1fed5bceb5</td>\n",
       "      <td>delivered</td>\n",
       "      <td>2018-04-24 16:16:53</td>\n",
       "      <td>2018-04-24 19:04:19</td>\n",
       "      <td>2018-04-25 17:01:00</td>\n",
       "      <td>2018-04-27 16:42:17</td>\n",
       "      <td>2018-05-09 00:00:00</td>\n",
       "      <td>d71da8fd8c6e3adef26be965f065b8a1</td>\n",
       "      <td>5</td>\n",
       "      <td>b1a1199364a4a7fe27c4486ab63f550d</td>\n",
       "      <td>13848</td>\n",
       "      <td>-22.331249</td>\n",
       "      <td>-46.922580</td>\n",
       "      <td>mogi guaçu</td>\n",
       "      <td>SP</td>\n",
       "      <td>perfumery</td>\n",
       "      <td>Good review</td>\n",
       "      <td>Low freight</td>\n",
       "      <td>3 days 00:25:24</td>\n",
       "      <td>2018-04-24</td>\n",
       "      <td>2018-04-27</td>\n",
       "      <td>3</td>\n",
       "      <td>2399.699757</td>\n",
       "    </tr>\n",
       "    <tr>\n",
       "      <th>1</th>\n",
       "      <td>a035b83b3628decee6e3823924e0c10f</td>\n",
       "      <td>53.0</td>\n",
       "      <td>2235.0</td>\n",
       "      <td>3.0</td>\n",
       "      <td>1450.0</td>\n",
       "      <td>20.0</td>\n",
       "      <td>25.0</td>\n",
       "      <td>20.0</td>\n",
       "      <td>b18cb761efbe70da4838435a349abd07</td>\n",
       "      <td>1</td>\n",
       "      <td>5670f4db5b62c43d542e1b2d56b0cf7c</td>\n",
       "      <td>2018-07-06 19:31:03</td>\n",
       "      <td>268.38</td>\n",
       "      <td>21.07</td>\n",
       "      <td>3694</td>\n",
       "      <td>-23.537922</td>\n",
       "      <td>-46.477696</td>\n",
       "      <td>sao paulo</td>\n",
       "      <td>SP</td>\n",
       "      <td>1</td>\n",
       "      <td>credit_card</td>\n",
       "      <td>10</td>\n",
       "      <td>289.45</td>\n",
       "      <td>9ff6d1a05ecfe2d907adac11a2e2bfe9</td>\n",
       "      <td>delivered</td>\n",
       "      <td>2018-07-04 18:39:28</td>\n",
       "      <td>2018-07-05 16:33:14</td>\n",
       "      <td>2018-07-05 13:21:00</td>\n",
       "      <td>2018-07-10 22:34:39</td>\n",
       "      <td>2018-07-27 00:00:00</td>\n",
       "      <td>0f0f85749cb82321d902e390a9c33694</td>\n",
       "      <td>4</td>\n",
       "      <td>fc68ba9c34778e17224154c255b5656e</td>\n",
       "      <td>84200</td>\n",
       "      <td>-24.256442</td>\n",
       "      <td>-49.709951</td>\n",
       "      <td>jaguariaíva</td>\n",
       "      <td>PR</td>\n",
       "      <td>perfumery</td>\n",
       "      <td>Good review</td>\n",
       "      <td>Medium freight</td>\n",
       "      <td>6 days 03:55:11</td>\n",
       "      <td>2018-07-04</td>\n",
       "      <td>2018-07-10</td>\n",
       "      <td>6</td>\n",
       "      <td>2662.455144</td>\n",
       "    </tr>\n",
       "    <tr>\n",
       "      <th>2</th>\n",
       "      <td>091107484dd7172f5dcfed173e4a960e</td>\n",
       "      <td>50.0</td>\n",
       "      <td>260.0</td>\n",
       "      <td>2.0</td>\n",
       "      <td>183.0</td>\n",
       "      <td>16.0</td>\n",
       "      <td>8.0</td>\n",
       "      <td>13.0</td>\n",
       "      <td>a7708ffa8966514c098d15e1abfa6417</td>\n",
       "      <td>1</td>\n",
       "      <td>5670f4db5b62c43d542e1b2d56b0cf7c</td>\n",
       "      <td>2018-04-27 19:31:35</td>\n",
       "      <td>7.65</td>\n",
       "      <td>10.55</td>\n",
       "      <td>3694</td>\n",
       "      <td>-23.537922</td>\n",
       "      <td>-46.477696</td>\n",
       "      <td>sao paulo</td>\n",
       "      <td>SP</td>\n",
       "      <td>1</td>\n",
       "      <td>credit_card</td>\n",
       "      <td>2</td>\n",
       "      <td>57.75</td>\n",
       "      <td>360782688ff472f1adbd47a85861751e</td>\n",
       "      <td>delivered</td>\n",
       "      <td>2018-04-23 19:03:35</td>\n",
       "      <td>2018-04-24 19:17:45</td>\n",
       "      <td>2018-04-24 16:22:36</td>\n",
       "      <td>2018-04-25 23:02:39</td>\n",
       "      <td>2018-05-15 00:00:00</td>\n",
       "      <td>39489f8518181b82cb86ce264e1ccc55</td>\n",
       "      <td>5</td>\n",
       "      <td>c67329fd07872a68d6d6d1f1626a0760</td>\n",
       "      <td>3804</td>\n",
       "      <td>-23.502716</td>\n",
       "      <td>-46.482996</td>\n",
       "      <td>sao paulo</td>\n",
       "      <td>SP</td>\n",
       "      <td>perfumery</td>\n",
       "      <td>Good review</td>\n",
       "      <td>Low freight</td>\n",
       "      <td>2 days 03:59:04</td>\n",
       "      <td>2018-04-23</td>\n",
       "      <td>2018-04-25</td>\n",
       "      <td>2</td>\n",
       "      <td>2340.750167</td>\n",
       "    </tr>\n",
       "    <tr>\n",
       "      <th>3</th>\n",
       "      <td>e8b61f78db501ea0ca45677d1ca27de2</td>\n",
       "      <td>49.0</td>\n",
       "      <td>120.0</td>\n",
       "      <td>1.0</td>\n",
       "      <td>400.0</td>\n",
       "      <td>50.0</td>\n",
       "      <td>10.0</td>\n",
       "      <td>25.0</td>\n",
       "      <td>a7708ffa8966514c098d15e1abfa6417</td>\n",
       "      <td>2</td>\n",
       "      <td>3d871de0142ce09b7081e2b9d1733cb1</td>\n",
       "      <td>2018-04-27 19:31:35</td>\n",
       "      <td>29.00</td>\n",
       "      <td>10.55</td>\n",
       "      <td>13232</td>\n",
       "      <td>-23.207064</td>\n",
       "      <td>-46.760735</td>\n",
       "      <td>campo limpo paulista</td>\n",
       "      <td>SP</td>\n",
       "      <td>1</td>\n",
       "      <td>credit_card</td>\n",
       "      <td>2</td>\n",
       "      <td>57.75</td>\n",
       "      <td>360782688ff472f1adbd47a85861751e</td>\n",
       "      <td>delivered</td>\n",
       "      <td>2018-04-23 19:03:35</td>\n",
       "      <td>2018-04-24 19:17:45</td>\n",
       "      <td>2018-04-24 16:22:36</td>\n",
       "      <td>2018-04-25 23:02:39</td>\n",
       "      <td>2018-05-15 00:00:00</td>\n",
       "      <td>39489f8518181b82cb86ce264e1ccc55</td>\n",
       "      <td>5</td>\n",
       "      <td>c67329fd07872a68d6d6d1f1626a0760</td>\n",
       "      <td>3804</td>\n",
       "      <td>-23.502716</td>\n",
       "      <td>-46.482996</td>\n",
       "      <td>sao paulo</td>\n",
       "      <td>SP</td>\n",
       "      <td>toys</td>\n",
       "      <td>Good review</td>\n",
       "      <td>Low freight</td>\n",
       "      <td>2 days 03:59:04</td>\n",
       "      <td>2018-04-23</td>\n",
       "      <td>2018-04-25</td>\n",
       "      <td>2</td>\n",
       "      <td>2377.637320</td>\n",
       "    </tr>\n",
       "    <tr>\n",
       "      <th>4</th>\n",
       "      <td>ccac9976bafbf7e587bd2c29302e2314</td>\n",
       "      <td>53.0</td>\n",
       "      <td>2235.0</td>\n",
       "      <td>3.0</td>\n",
       "      <td>1500.0</td>\n",
       "      <td>20.0</td>\n",
       "      <td>25.0</td>\n",
       "      <td>20.0</td>\n",
       "      <td>206d1a13596872a713dba14504fdf699</td>\n",
       "      <td>1</td>\n",
       "      <td>5670f4db5b62c43d542e1b2d56b0cf7c</td>\n",
       "      <td>2018-08-01 16:35:17</td>\n",
       "      <td>268.38</td>\n",
       "      <td>18.07</td>\n",
       "      <td>3694</td>\n",
       "      <td>-23.537922</td>\n",
       "      <td>-46.477696</td>\n",
       "      <td>sao paulo</td>\n",
       "      <td>SP</td>\n",
       "      <td>1</td>\n",
       "      <td>credit_card</td>\n",
       "      <td>8</td>\n",
       "      <td>286.45</td>\n",
       "      <td>58c5eb8e7844d1ecd85128e663f49e04</td>\n",
       "      <td>delivered</td>\n",
       "      <td>2018-07-29 20:50:22</td>\n",
       "      <td>2018-07-30 18:31:13</td>\n",
       "      <td>2018-08-01 15:24:00</td>\n",
       "      <td>2018-08-06 18:36:46</td>\n",
       "      <td>2018-08-15 00:00:00</td>\n",
       "      <td>36b616f738d1f617cc12aeb2c01705f3</td>\n",
       "      <td>3</td>\n",
       "      <td>1b6d2664b20a04a1fa9c900aedf29440</td>\n",
       "      <td>71920</td>\n",
       "      <td>-15.829934</td>\n",
       "      <td>-48.032895</td>\n",
       "      <td>brasilia</td>\n",
       "      <td>DF</td>\n",
       "      <td>perfumery</td>\n",
       "      <td>Medium review</td>\n",
       "      <td>Medium freight</td>\n",
       "      <td>7 days 21:46:24</td>\n",
       "      <td>2018-07-29</td>\n",
       "      <td>2018-08-06</td>\n",
       "      <td>8</td>\n",
       "      <td>2701.745065</td>\n",
       "    </tr>\n",
       "  </tbody>\n",
       "</table>\n",
       "</div>"
      ],
      "text/plain": [
       "                         product_id  product_name_lenght  \\\n",
       "0  1e9e8ef04dbcff4541ed26657ea517e5                 40.0   \n",
       "1  a035b83b3628decee6e3823924e0c10f                 53.0   \n",
       "2  091107484dd7172f5dcfed173e4a960e                 50.0   \n",
       "3  e8b61f78db501ea0ca45677d1ca27de2                 49.0   \n",
       "4  ccac9976bafbf7e587bd2c29302e2314                 53.0   \n",
       "\n",
       "   product_description_lenght  product_photos_qty  product_weight_g  \\\n",
       "0                       287.0                 1.0             225.0   \n",
       "1                      2235.0                 3.0            1450.0   \n",
       "2                       260.0                 2.0             183.0   \n",
       "3                       120.0                 1.0             400.0   \n",
       "4                      2235.0                 3.0            1500.0   \n",
       "\n",
       "   product_length_cm  product_height_cm  product_width_cm  \\\n",
       "0               16.0               10.0              14.0   \n",
       "1               20.0               25.0              20.0   \n",
       "2               16.0                8.0              13.0   \n",
       "3               50.0               10.0              25.0   \n",
       "4               20.0               25.0              20.0   \n",
       "\n",
       "                           order_id  order_item_id  \\\n",
       "0  e17e4f88e31525f7deef66779844ddce              1   \n",
       "1  b18cb761efbe70da4838435a349abd07              1   \n",
       "2  a7708ffa8966514c098d15e1abfa6417              1   \n",
       "3  a7708ffa8966514c098d15e1abfa6417              2   \n",
       "4  206d1a13596872a713dba14504fdf699              1   \n",
       "\n",
       "                          seller_id  shipping_limit_date   price  \\\n",
       "0  5670f4db5b62c43d542e1b2d56b0cf7c  2018-04-30 17:33:54   10.91   \n",
       "1  5670f4db5b62c43d542e1b2d56b0cf7c  2018-07-06 19:31:03  268.38   \n",
       "2  5670f4db5b62c43d542e1b2d56b0cf7c  2018-04-27 19:31:35    7.65   \n",
       "3  3d871de0142ce09b7081e2b9d1733cb1  2018-04-27 19:31:35   29.00   \n",
       "4  5670f4db5b62c43d542e1b2d56b0cf7c  2018-08-01 16:35:17  268.38   \n",
       "\n",
       "   freight_value  zip_code_prefix_customer  lat_customer  lng_customer  \\\n",
       "0           7.39                      3694    -23.537922    -46.477696   \n",
       "1          21.07                      3694    -23.537922    -46.477696   \n",
       "2          10.55                      3694    -23.537922    -46.477696   \n",
       "3          10.55                     13232    -23.207064    -46.760735   \n",
       "4          18.07                      3694    -23.537922    -46.477696   \n",
       "\n",
       "          customer_city customer_state  payment_sequential payment_type  \\\n",
       "0             sao paulo             SP                   1   debit_card   \n",
       "1             sao paulo             SP                   1  credit_card   \n",
       "2             sao paulo             SP                   1  credit_card   \n",
       "3  campo limpo paulista             SP                   1  credit_card   \n",
       "4             sao paulo             SP                   1  credit_card   \n",
       "\n",
       "   payment_installments  payment_value                       customer_id  \\\n",
       "0                     1          18.30  f8a3e963a310aa58b60a5b1fed5bceb5   \n",
       "1                    10         289.45  9ff6d1a05ecfe2d907adac11a2e2bfe9   \n",
       "2                     2          57.75  360782688ff472f1adbd47a85861751e   \n",
       "3                     2          57.75  360782688ff472f1adbd47a85861751e   \n",
       "4                     8         286.45  58c5eb8e7844d1ecd85128e663f49e04   \n",
       "\n",
       "  order_status order_purchase_timestamp    order_approved_at  \\\n",
       "0    delivered      2018-04-24 16:16:53  2018-04-24 19:04:19   \n",
       "1    delivered      2018-07-04 18:39:28  2018-07-05 16:33:14   \n",
       "2    delivered      2018-04-23 19:03:35  2018-04-24 19:17:45   \n",
       "3    delivered      2018-04-23 19:03:35  2018-04-24 19:17:45   \n",
       "4    delivered      2018-07-29 20:50:22  2018-07-30 18:31:13   \n",
       "\n",
       "  order_delivered_carrier_date order_delivered_customer_date  \\\n",
       "0          2018-04-25 17:01:00           2018-04-27 16:42:17   \n",
       "1          2018-07-05 13:21:00           2018-07-10 22:34:39   \n",
       "2          2018-04-24 16:22:36           2018-04-25 23:02:39   \n",
       "3          2018-04-24 16:22:36           2018-04-25 23:02:39   \n",
       "4          2018-08-01 15:24:00           2018-08-06 18:36:46   \n",
       "\n",
       "  order_estimated_delivery_date                         review_id  \\\n",
       "0           2018-05-09 00:00:00  d71da8fd8c6e3adef26be965f065b8a1   \n",
       "1           2018-07-27 00:00:00  0f0f85749cb82321d902e390a9c33694   \n",
       "2           2018-05-15 00:00:00  39489f8518181b82cb86ce264e1ccc55   \n",
       "3           2018-05-15 00:00:00  39489f8518181b82cb86ce264e1ccc55   \n",
       "4           2018-08-15 00:00:00  36b616f738d1f617cc12aeb2c01705f3   \n",
       "\n",
       "   review_score                customer_unique_id  zip_code_prefix_seller  \\\n",
       "0             5  b1a1199364a4a7fe27c4486ab63f550d                   13848   \n",
       "1             4  fc68ba9c34778e17224154c255b5656e                   84200   \n",
       "2             5  c67329fd07872a68d6d6d1f1626a0760                    3804   \n",
       "3             5  c67329fd07872a68d6d6d1f1626a0760                    3804   \n",
       "4             3  1b6d2664b20a04a1fa9c900aedf29440                   71920   \n",
       "\n",
       "   lat_seller  lng_seller  seller_city seller_state product_category_name  \\\n",
       "0  -22.331249  -46.922580   mogi guaçu           SP             perfumery   \n",
       "1  -24.256442  -49.709951  jaguariaíva           PR             perfumery   \n",
       "2  -23.502716  -46.482996    sao paulo           SP             perfumery   \n",
       "3  -23.502716  -46.482996    sao paulo           SP                  toys   \n",
       "4  -15.829934  -48.032895     brasilia           DF             perfumery   \n",
       "\n",
       "  review_category    freight_flag          pur_del  start_date    end_date  \\\n",
       "0     Good review     Low freight  3 days 00:25:24  2018-04-24  2018-04-27   \n",
       "1     Good review  Medium freight  6 days 03:55:11  2018-07-04  2018-07-10   \n",
       "2     Good review     Low freight  2 days 03:59:04  2018-04-23  2018-04-25   \n",
       "3     Good review     Low freight  2 days 03:59:04  2018-04-23  2018-04-25   \n",
       "4   Medium review  Medium freight  7 days 21:46:24  2018-07-29  2018-08-06   \n",
       "\n",
       "   n_of_days     distance  \n",
       "0          3  2399.699757  \n",
       "1          6  2662.455144  \n",
       "2          2  2340.750167  \n",
       "3          2  2377.637320  \n",
       "4          8  2701.745065  "
      ]
     },
     "execution_count": 9,
     "metadata": {},
     "output_type": "execute_result"
    }
   ],
   "source": [
    "df.head()"
   ]
  },
  {
   "cell_type": "code",
   "execution_count": 10,
   "id": "2da1885e",
   "metadata": {},
   "outputs": [
    {
     "data": {
      "text/plain": [
       "delivered    112650\n",
       "canceled          7\n",
       "Name: order_status, dtype: int64"
      ]
     },
     "execution_count": 10,
     "metadata": {},
     "output_type": "execute_result"
    }
   ],
   "source": [
    "df['order_status'].value_counts(dropna = False)\n"
   ]
  },
  {
   "cell_type": "code",
   "execution_count": 11,
   "id": "3261625a",
   "metadata": {},
   "outputs": [],
   "source": [
    "# Add column year of order_id"
   ]
  },
  {
   "cell_type": "code",
   "execution_count": 12,
   "id": "5e2cb41a",
   "metadata": {},
   "outputs": [],
   "source": [
    "df[\"start_date\"] = pd.to_datetime(df[\"start_date\"])\n"
   ]
  },
  {
   "cell_type": "code",
   "execution_count": 13,
   "id": "214257ce",
   "metadata": {},
   "outputs": [],
   "source": [
    "df['year'] = df['start_date'].dt.year"
   ]
  },
  {
   "cell_type": "code",
   "execution_count": 14,
   "id": "7e59a872",
   "metadata": {},
   "outputs": [],
   "source": [
    "df['month'] = df['start_date'].dt.month"
   ]
  },
  {
   "cell_type": "code",
   "execution_count": 15,
   "id": "8202930c",
   "metadata": {
    "scrolled": true
   },
   "outputs": [
    {
     "data": {
      "text/html": [
       "<div>\n",
       "<style scoped>\n",
       "    .dataframe tbody tr th:only-of-type {\n",
       "        vertical-align: middle;\n",
       "    }\n",
       "\n",
       "    .dataframe tbody tr th {\n",
       "        vertical-align: top;\n",
       "    }\n",
       "\n",
       "    .dataframe thead th {\n",
       "        text-align: right;\n",
       "    }\n",
       "</style>\n",
       "<table border=\"1\" class=\"dataframe\">\n",
       "  <thead>\n",
       "    <tr style=\"text-align: right;\">\n",
       "      <th></th>\n",
       "      <th>product_id</th>\n",
       "      <th>product_name_lenght</th>\n",
       "      <th>product_description_lenght</th>\n",
       "      <th>product_photos_qty</th>\n",
       "      <th>product_weight_g</th>\n",
       "      <th>product_length_cm</th>\n",
       "      <th>product_height_cm</th>\n",
       "      <th>product_width_cm</th>\n",
       "      <th>order_id</th>\n",
       "      <th>order_item_id</th>\n",
       "      <th>seller_id</th>\n",
       "      <th>shipping_limit_date</th>\n",
       "      <th>price</th>\n",
       "      <th>freight_value</th>\n",
       "      <th>zip_code_prefix_customer</th>\n",
       "      <th>lat_customer</th>\n",
       "      <th>lng_customer</th>\n",
       "      <th>customer_city</th>\n",
       "      <th>customer_state</th>\n",
       "      <th>payment_sequential</th>\n",
       "      <th>payment_type</th>\n",
       "      <th>payment_installments</th>\n",
       "      <th>payment_value</th>\n",
       "      <th>customer_id</th>\n",
       "      <th>order_status</th>\n",
       "      <th>order_purchase_timestamp</th>\n",
       "      <th>order_approved_at</th>\n",
       "      <th>order_delivered_carrier_date</th>\n",
       "      <th>order_delivered_customer_date</th>\n",
       "      <th>order_estimated_delivery_date</th>\n",
       "      <th>review_id</th>\n",
       "      <th>review_score</th>\n",
       "      <th>customer_unique_id</th>\n",
       "      <th>zip_code_prefix_seller</th>\n",
       "      <th>lat_seller</th>\n",
       "      <th>lng_seller</th>\n",
       "      <th>seller_city</th>\n",
       "      <th>seller_state</th>\n",
       "      <th>product_category_name</th>\n",
       "      <th>review_category</th>\n",
       "      <th>freight_flag</th>\n",
       "      <th>pur_del</th>\n",
       "      <th>start_date</th>\n",
       "      <th>end_date</th>\n",
       "      <th>n_of_days</th>\n",
       "      <th>distance</th>\n",
       "      <th>year</th>\n",
       "      <th>month</th>\n",
       "    </tr>\n",
       "  </thead>\n",
       "  <tbody>\n",
       "    <tr>\n",
       "      <th>0</th>\n",
       "      <td>1e9e8ef04dbcff4541ed26657ea517e5</td>\n",
       "      <td>40.0</td>\n",
       "      <td>287.0</td>\n",
       "      <td>1.0</td>\n",
       "      <td>225.0</td>\n",
       "      <td>16.0</td>\n",
       "      <td>10.0</td>\n",
       "      <td>14.0</td>\n",
       "      <td>e17e4f88e31525f7deef66779844ddce</td>\n",
       "      <td>1</td>\n",
       "      <td>5670f4db5b62c43d542e1b2d56b0cf7c</td>\n",
       "      <td>2018-04-30 17:33:54</td>\n",
       "      <td>10.91</td>\n",
       "      <td>7.39</td>\n",
       "      <td>3694</td>\n",
       "      <td>-23.537922</td>\n",
       "      <td>-46.477696</td>\n",
       "      <td>sao paulo</td>\n",
       "      <td>SP</td>\n",
       "      <td>1</td>\n",
       "      <td>debit_card</td>\n",
       "      <td>1</td>\n",
       "      <td>18.30</td>\n",
       "      <td>f8a3e963a310aa58b60a5b1fed5bceb5</td>\n",
       "      <td>delivered</td>\n",
       "      <td>2018-04-24 16:16:53</td>\n",
       "      <td>2018-04-24 19:04:19</td>\n",
       "      <td>2018-04-25 17:01:00</td>\n",
       "      <td>2018-04-27 16:42:17</td>\n",
       "      <td>2018-05-09 00:00:00</td>\n",
       "      <td>d71da8fd8c6e3adef26be965f065b8a1</td>\n",
       "      <td>5</td>\n",
       "      <td>b1a1199364a4a7fe27c4486ab63f550d</td>\n",
       "      <td>13848</td>\n",
       "      <td>-22.331249</td>\n",
       "      <td>-46.922580</td>\n",
       "      <td>mogi guaçu</td>\n",
       "      <td>SP</td>\n",
       "      <td>perfumery</td>\n",
       "      <td>Good review</td>\n",
       "      <td>Low freight</td>\n",
       "      <td>3 days 00:25:24</td>\n",
       "      <td>2018-04-24</td>\n",
       "      <td>2018-04-27</td>\n",
       "      <td>3</td>\n",
       "      <td>2399.699757</td>\n",
       "      <td>2018</td>\n",
       "      <td>4</td>\n",
       "    </tr>\n",
       "    <tr>\n",
       "      <th>1</th>\n",
       "      <td>a035b83b3628decee6e3823924e0c10f</td>\n",
       "      <td>53.0</td>\n",
       "      <td>2235.0</td>\n",
       "      <td>3.0</td>\n",
       "      <td>1450.0</td>\n",
       "      <td>20.0</td>\n",
       "      <td>25.0</td>\n",
       "      <td>20.0</td>\n",
       "      <td>b18cb761efbe70da4838435a349abd07</td>\n",
       "      <td>1</td>\n",
       "      <td>5670f4db5b62c43d542e1b2d56b0cf7c</td>\n",
       "      <td>2018-07-06 19:31:03</td>\n",
       "      <td>268.38</td>\n",
       "      <td>21.07</td>\n",
       "      <td>3694</td>\n",
       "      <td>-23.537922</td>\n",
       "      <td>-46.477696</td>\n",
       "      <td>sao paulo</td>\n",
       "      <td>SP</td>\n",
       "      <td>1</td>\n",
       "      <td>credit_card</td>\n",
       "      <td>10</td>\n",
       "      <td>289.45</td>\n",
       "      <td>9ff6d1a05ecfe2d907adac11a2e2bfe9</td>\n",
       "      <td>delivered</td>\n",
       "      <td>2018-07-04 18:39:28</td>\n",
       "      <td>2018-07-05 16:33:14</td>\n",
       "      <td>2018-07-05 13:21:00</td>\n",
       "      <td>2018-07-10 22:34:39</td>\n",
       "      <td>2018-07-27 00:00:00</td>\n",
       "      <td>0f0f85749cb82321d902e390a9c33694</td>\n",
       "      <td>4</td>\n",
       "      <td>fc68ba9c34778e17224154c255b5656e</td>\n",
       "      <td>84200</td>\n",
       "      <td>-24.256442</td>\n",
       "      <td>-49.709951</td>\n",
       "      <td>jaguariaíva</td>\n",
       "      <td>PR</td>\n",
       "      <td>perfumery</td>\n",
       "      <td>Good review</td>\n",
       "      <td>Medium freight</td>\n",
       "      <td>6 days 03:55:11</td>\n",
       "      <td>2018-07-04</td>\n",
       "      <td>2018-07-10</td>\n",
       "      <td>6</td>\n",
       "      <td>2662.455144</td>\n",
       "      <td>2018</td>\n",
       "      <td>7</td>\n",
       "    </tr>\n",
       "    <tr>\n",
       "      <th>2</th>\n",
       "      <td>091107484dd7172f5dcfed173e4a960e</td>\n",
       "      <td>50.0</td>\n",
       "      <td>260.0</td>\n",
       "      <td>2.0</td>\n",
       "      <td>183.0</td>\n",
       "      <td>16.0</td>\n",
       "      <td>8.0</td>\n",
       "      <td>13.0</td>\n",
       "      <td>a7708ffa8966514c098d15e1abfa6417</td>\n",
       "      <td>1</td>\n",
       "      <td>5670f4db5b62c43d542e1b2d56b0cf7c</td>\n",
       "      <td>2018-04-27 19:31:35</td>\n",
       "      <td>7.65</td>\n",
       "      <td>10.55</td>\n",
       "      <td>3694</td>\n",
       "      <td>-23.537922</td>\n",
       "      <td>-46.477696</td>\n",
       "      <td>sao paulo</td>\n",
       "      <td>SP</td>\n",
       "      <td>1</td>\n",
       "      <td>credit_card</td>\n",
       "      <td>2</td>\n",
       "      <td>57.75</td>\n",
       "      <td>360782688ff472f1adbd47a85861751e</td>\n",
       "      <td>delivered</td>\n",
       "      <td>2018-04-23 19:03:35</td>\n",
       "      <td>2018-04-24 19:17:45</td>\n",
       "      <td>2018-04-24 16:22:36</td>\n",
       "      <td>2018-04-25 23:02:39</td>\n",
       "      <td>2018-05-15 00:00:00</td>\n",
       "      <td>39489f8518181b82cb86ce264e1ccc55</td>\n",
       "      <td>5</td>\n",
       "      <td>c67329fd07872a68d6d6d1f1626a0760</td>\n",
       "      <td>3804</td>\n",
       "      <td>-23.502716</td>\n",
       "      <td>-46.482996</td>\n",
       "      <td>sao paulo</td>\n",
       "      <td>SP</td>\n",
       "      <td>perfumery</td>\n",
       "      <td>Good review</td>\n",
       "      <td>Low freight</td>\n",
       "      <td>2 days 03:59:04</td>\n",
       "      <td>2018-04-23</td>\n",
       "      <td>2018-04-25</td>\n",
       "      <td>2</td>\n",
       "      <td>2340.750167</td>\n",
       "      <td>2018</td>\n",
       "      <td>4</td>\n",
       "    </tr>\n",
       "    <tr>\n",
       "      <th>3</th>\n",
       "      <td>e8b61f78db501ea0ca45677d1ca27de2</td>\n",
       "      <td>49.0</td>\n",
       "      <td>120.0</td>\n",
       "      <td>1.0</td>\n",
       "      <td>400.0</td>\n",
       "      <td>50.0</td>\n",
       "      <td>10.0</td>\n",
       "      <td>25.0</td>\n",
       "      <td>a7708ffa8966514c098d15e1abfa6417</td>\n",
       "      <td>2</td>\n",
       "      <td>3d871de0142ce09b7081e2b9d1733cb1</td>\n",
       "      <td>2018-04-27 19:31:35</td>\n",
       "      <td>29.00</td>\n",
       "      <td>10.55</td>\n",
       "      <td>13232</td>\n",
       "      <td>-23.207064</td>\n",
       "      <td>-46.760735</td>\n",
       "      <td>campo limpo paulista</td>\n",
       "      <td>SP</td>\n",
       "      <td>1</td>\n",
       "      <td>credit_card</td>\n",
       "      <td>2</td>\n",
       "      <td>57.75</td>\n",
       "      <td>360782688ff472f1adbd47a85861751e</td>\n",
       "      <td>delivered</td>\n",
       "      <td>2018-04-23 19:03:35</td>\n",
       "      <td>2018-04-24 19:17:45</td>\n",
       "      <td>2018-04-24 16:22:36</td>\n",
       "      <td>2018-04-25 23:02:39</td>\n",
       "      <td>2018-05-15 00:00:00</td>\n",
       "      <td>39489f8518181b82cb86ce264e1ccc55</td>\n",
       "      <td>5</td>\n",
       "      <td>c67329fd07872a68d6d6d1f1626a0760</td>\n",
       "      <td>3804</td>\n",
       "      <td>-23.502716</td>\n",
       "      <td>-46.482996</td>\n",
       "      <td>sao paulo</td>\n",
       "      <td>SP</td>\n",
       "      <td>toys</td>\n",
       "      <td>Good review</td>\n",
       "      <td>Low freight</td>\n",
       "      <td>2 days 03:59:04</td>\n",
       "      <td>2018-04-23</td>\n",
       "      <td>2018-04-25</td>\n",
       "      <td>2</td>\n",
       "      <td>2377.637320</td>\n",
       "      <td>2018</td>\n",
       "      <td>4</td>\n",
       "    </tr>\n",
       "    <tr>\n",
       "      <th>4</th>\n",
       "      <td>ccac9976bafbf7e587bd2c29302e2314</td>\n",
       "      <td>53.0</td>\n",
       "      <td>2235.0</td>\n",
       "      <td>3.0</td>\n",
       "      <td>1500.0</td>\n",
       "      <td>20.0</td>\n",
       "      <td>25.0</td>\n",
       "      <td>20.0</td>\n",
       "      <td>206d1a13596872a713dba14504fdf699</td>\n",
       "      <td>1</td>\n",
       "      <td>5670f4db5b62c43d542e1b2d56b0cf7c</td>\n",
       "      <td>2018-08-01 16:35:17</td>\n",
       "      <td>268.38</td>\n",
       "      <td>18.07</td>\n",
       "      <td>3694</td>\n",
       "      <td>-23.537922</td>\n",
       "      <td>-46.477696</td>\n",
       "      <td>sao paulo</td>\n",
       "      <td>SP</td>\n",
       "      <td>1</td>\n",
       "      <td>credit_card</td>\n",
       "      <td>8</td>\n",
       "      <td>286.45</td>\n",
       "      <td>58c5eb8e7844d1ecd85128e663f49e04</td>\n",
       "      <td>delivered</td>\n",
       "      <td>2018-07-29 20:50:22</td>\n",
       "      <td>2018-07-30 18:31:13</td>\n",
       "      <td>2018-08-01 15:24:00</td>\n",
       "      <td>2018-08-06 18:36:46</td>\n",
       "      <td>2018-08-15 00:00:00</td>\n",
       "      <td>36b616f738d1f617cc12aeb2c01705f3</td>\n",
       "      <td>3</td>\n",
       "      <td>1b6d2664b20a04a1fa9c900aedf29440</td>\n",
       "      <td>71920</td>\n",
       "      <td>-15.829934</td>\n",
       "      <td>-48.032895</td>\n",
       "      <td>brasilia</td>\n",
       "      <td>DF</td>\n",
       "      <td>perfumery</td>\n",
       "      <td>Medium review</td>\n",
       "      <td>Medium freight</td>\n",
       "      <td>7 days 21:46:24</td>\n",
       "      <td>2018-07-29</td>\n",
       "      <td>2018-08-06</td>\n",
       "      <td>8</td>\n",
       "      <td>2701.745065</td>\n",
       "      <td>2018</td>\n",
       "      <td>7</td>\n",
       "    </tr>\n",
       "  </tbody>\n",
       "</table>\n",
       "</div>"
      ],
      "text/plain": [
       "                         product_id  product_name_lenght  \\\n",
       "0  1e9e8ef04dbcff4541ed26657ea517e5                 40.0   \n",
       "1  a035b83b3628decee6e3823924e0c10f                 53.0   \n",
       "2  091107484dd7172f5dcfed173e4a960e                 50.0   \n",
       "3  e8b61f78db501ea0ca45677d1ca27de2                 49.0   \n",
       "4  ccac9976bafbf7e587bd2c29302e2314                 53.0   \n",
       "\n",
       "   product_description_lenght  product_photos_qty  product_weight_g  \\\n",
       "0                       287.0                 1.0             225.0   \n",
       "1                      2235.0                 3.0            1450.0   \n",
       "2                       260.0                 2.0             183.0   \n",
       "3                       120.0                 1.0             400.0   \n",
       "4                      2235.0                 3.0            1500.0   \n",
       "\n",
       "   product_length_cm  product_height_cm  product_width_cm  \\\n",
       "0               16.0               10.0              14.0   \n",
       "1               20.0               25.0              20.0   \n",
       "2               16.0                8.0              13.0   \n",
       "3               50.0               10.0              25.0   \n",
       "4               20.0               25.0              20.0   \n",
       "\n",
       "                           order_id  order_item_id  \\\n",
       "0  e17e4f88e31525f7deef66779844ddce              1   \n",
       "1  b18cb761efbe70da4838435a349abd07              1   \n",
       "2  a7708ffa8966514c098d15e1abfa6417              1   \n",
       "3  a7708ffa8966514c098d15e1abfa6417              2   \n",
       "4  206d1a13596872a713dba14504fdf699              1   \n",
       "\n",
       "                          seller_id  shipping_limit_date   price  \\\n",
       "0  5670f4db5b62c43d542e1b2d56b0cf7c  2018-04-30 17:33:54   10.91   \n",
       "1  5670f4db5b62c43d542e1b2d56b0cf7c  2018-07-06 19:31:03  268.38   \n",
       "2  5670f4db5b62c43d542e1b2d56b0cf7c  2018-04-27 19:31:35    7.65   \n",
       "3  3d871de0142ce09b7081e2b9d1733cb1  2018-04-27 19:31:35   29.00   \n",
       "4  5670f4db5b62c43d542e1b2d56b0cf7c  2018-08-01 16:35:17  268.38   \n",
       "\n",
       "   freight_value  zip_code_prefix_customer  lat_customer  lng_customer  \\\n",
       "0           7.39                      3694    -23.537922    -46.477696   \n",
       "1          21.07                      3694    -23.537922    -46.477696   \n",
       "2          10.55                      3694    -23.537922    -46.477696   \n",
       "3          10.55                     13232    -23.207064    -46.760735   \n",
       "4          18.07                      3694    -23.537922    -46.477696   \n",
       "\n",
       "          customer_city customer_state  payment_sequential payment_type  \\\n",
       "0             sao paulo             SP                   1   debit_card   \n",
       "1             sao paulo             SP                   1  credit_card   \n",
       "2             sao paulo             SP                   1  credit_card   \n",
       "3  campo limpo paulista             SP                   1  credit_card   \n",
       "4             sao paulo             SP                   1  credit_card   \n",
       "\n",
       "   payment_installments  payment_value                       customer_id  \\\n",
       "0                     1          18.30  f8a3e963a310aa58b60a5b1fed5bceb5   \n",
       "1                    10         289.45  9ff6d1a05ecfe2d907adac11a2e2bfe9   \n",
       "2                     2          57.75  360782688ff472f1adbd47a85861751e   \n",
       "3                     2          57.75  360782688ff472f1adbd47a85861751e   \n",
       "4                     8         286.45  58c5eb8e7844d1ecd85128e663f49e04   \n",
       "\n",
       "  order_status order_purchase_timestamp    order_approved_at  \\\n",
       "0    delivered      2018-04-24 16:16:53  2018-04-24 19:04:19   \n",
       "1    delivered      2018-07-04 18:39:28  2018-07-05 16:33:14   \n",
       "2    delivered      2018-04-23 19:03:35  2018-04-24 19:17:45   \n",
       "3    delivered      2018-04-23 19:03:35  2018-04-24 19:17:45   \n",
       "4    delivered      2018-07-29 20:50:22  2018-07-30 18:31:13   \n",
       "\n",
       "  order_delivered_carrier_date order_delivered_customer_date  \\\n",
       "0          2018-04-25 17:01:00           2018-04-27 16:42:17   \n",
       "1          2018-07-05 13:21:00           2018-07-10 22:34:39   \n",
       "2          2018-04-24 16:22:36           2018-04-25 23:02:39   \n",
       "3          2018-04-24 16:22:36           2018-04-25 23:02:39   \n",
       "4          2018-08-01 15:24:00           2018-08-06 18:36:46   \n",
       "\n",
       "  order_estimated_delivery_date                         review_id  \\\n",
       "0           2018-05-09 00:00:00  d71da8fd8c6e3adef26be965f065b8a1   \n",
       "1           2018-07-27 00:00:00  0f0f85749cb82321d902e390a9c33694   \n",
       "2           2018-05-15 00:00:00  39489f8518181b82cb86ce264e1ccc55   \n",
       "3           2018-05-15 00:00:00  39489f8518181b82cb86ce264e1ccc55   \n",
       "4           2018-08-15 00:00:00  36b616f738d1f617cc12aeb2c01705f3   \n",
       "\n",
       "   review_score                customer_unique_id  zip_code_prefix_seller  \\\n",
       "0             5  b1a1199364a4a7fe27c4486ab63f550d                   13848   \n",
       "1             4  fc68ba9c34778e17224154c255b5656e                   84200   \n",
       "2             5  c67329fd07872a68d6d6d1f1626a0760                    3804   \n",
       "3             5  c67329fd07872a68d6d6d1f1626a0760                    3804   \n",
       "4             3  1b6d2664b20a04a1fa9c900aedf29440                   71920   \n",
       "\n",
       "   lat_seller  lng_seller  seller_city seller_state product_category_name  \\\n",
       "0  -22.331249  -46.922580   mogi guaçu           SP             perfumery   \n",
       "1  -24.256442  -49.709951  jaguariaíva           PR             perfumery   \n",
       "2  -23.502716  -46.482996    sao paulo           SP             perfumery   \n",
       "3  -23.502716  -46.482996    sao paulo           SP                  toys   \n",
       "4  -15.829934  -48.032895     brasilia           DF             perfumery   \n",
       "\n",
       "  review_category    freight_flag          pur_del start_date    end_date  \\\n",
       "0     Good review     Low freight  3 days 00:25:24 2018-04-24  2018-04-27   \n",
       "1     Good review  Medium freight  6 days 03:55:11 2018-07-04  2018-07-10   \n",
       "2     Good review     Low freight  2 days 03:59:04 2018-04-23  2018-04-25   \n",
       "3     Good review     Low freight  2 days 03:59:04 2018-04-23  2018-04-25   \n",
       "4   Medium review  Medium freight  7 days 21:46:24 2018-07-29  2018-08-06   \n",
       "\n",
       "   n_of_days     distance  year  month  \n",
       "0          3  2399.699757  2018      4  \n",
       "1          6  2662.455144  2018      7  \n",
       "2          2  2340.750167  2018      4  \n",
       "3          2  2377.637320  2018      4  \n",
       "4          8  2701.745065  2018      7  "
      ]
     },
     "execution_count": 15,
     "metadata": {},
     "output_type": "execute_result"
    }
   ],
   "source": [
    "df.head()"
   ]
  },
  {
   "cell_type": "code",
   "execution_count": 16,
   "id": "033da417",
   "metadata": {},
   "outputs": [
    {
     "data": {
      "image/png": "[encoded data removed]",
      "text/plain": [
       "<Figure size 432x288 with 1 Axes>"
      ]
     },
     "metadata": {
      "needs_background": "light"
     },
     "output_type": "display_data"
    }
   ],
   "source": [
    "df.plot(x = 'n_of_days', y='review_score',style='o') # The style option creates a scatterplot; without it, we only have lines.\n",
    "plt.title('Review x Days to deliver')  \n",
    "plt.xlabel('Days')  \n",
    "plt.ylabel('Review')  \n",
    "plt.show()"
   ]
  },
  {
   "cell_type": "code",
   "execution_count": 17,
   "id": "5b124337",
   "metadata": {},
   "outputs": [],
   "source": [
    "# Create a subset with customer_id, sum per year in columns year 2016, 2017, 2018\n",
    "\n",
    "subdf =  df.groupby('year',as_index=False).agg({'customer_id': 'count', 'order_id': 'count', 'payment_value': 'sum', 'review_score': 'mean' })\n"
   ]
  },
  {
   "cell_type": "code",
   "execution_count": 18,
   "id": "32fb4fdd",
   "metadata": {
    "scrolled": true
   },
   "outputs": [
    {
     "data": {
      "text/html": [
       "<div>\n",
       "<style scoped>\n",
       "    .dataframe tbody tr th:only-of-type {\n",
       "        vertical-align: middle;\n",
       "    }\n",
       "\n",
       "    .dataframe tbody tr th {\n",
       "        vertical-align: top;\n",
       "    }\n",
       "\n",
       "    .dataframe thead th {\n",
       "        text-align: right;\n",
       "    }\n",
       "</style>\n",
       "<table border=\"1\" class=\"dataframe\">\n",
       "  <thead>\n",
       "    <tr style=\"text-align: right;\">\n",
       "      <th></th>\n",
       "      <th>year</th>\n",
       "      <th>customer_id</th>\n",
       "      <th>order_id</th>\n",
       "      <th>payment_value</th>\n",
       "      <th>review_score</th>\n",
       "    </tr>\n",
       "  </thead>\n",
       "  <tbody>\n",
       "    <tr>\n",
       "      <th>0</th>\n",
       "      <td>2016</td>\n",
       "      <td>335</td>\n",
       "      <td>335</td>\n",
       "      <td>61612.81</td>\n",
       "      <td>3.886567</td>\n",
       "    </tr>\n",
       "    <tr>\n",
       "      <th>1</th>\n",
       "      <td>2017</td>\n",
       "      <td>50913</td>\n",
       "      <td>50913</td>\n",
       "      <td>8620837.52</td>\n",
       "      <td>4.107831</td>\n",
       "    </tr>\n",
       "    <tr>\n",
       "      <th>2</th>\n",
       "      <td>2018</td>\n",
       "      <td>61409</td>\n",
       "      <td>61409</td>\n",
       "      <td>10652410.10</td>\n",
       "      <td>4.061896</td>\n",
       "    </tr>\n",
       "  </tbody>\n",
       "</table>\n",
       "</div>"
      ],
      "text/plain": [
       "   year  customer_id  order_id  payment_value  review_score\n",
       "0  2016          335       335       61612.81      3.886567\n",
       "1  2017        50913     50913     8620837.52      4.107831\n",
       "2  2018        61409     61409    10652410.10      4.061896"
      ]
     },
     "execution_count": 18,
     "metadata": {},
     "output_type": "execute_result"
    }
   ],
   "source": [
    "subdf"
   ]
  },
  {
   "cell_type": "code",
   "execution_count": 19,
   "id": "0028aa2f",
   "metadata": {},
   "outputs": [],
   "source": [
    "### Data prep for regression analysis "
   ]
  },
  {
   "cell_type": "code",
   "execution_count": 20,
   "id": "f265cba7",
   "metadata": {},
   "outputs": [],
   "source": [
    "# The regression analysis can be done in several ways\n",
    "# - review_score and n_of_days to deliver, which had a correlation of -0,3. \n",
    "# Since some columns are categorical data, i'll have to create dummy indicators/ variables."
   ]
  },
  {
   "cell_type": "code",
   "execution_count": 21,
   "id": "1854640c",
   "metadata": {},
   "outputs": [],
   "source": [
    "# review_score and n_of_days to deliver\n",
    "\n",
    "X = df['n_of_days']"
   ]
  },
  {
   "cell_type": "code",
   "execution_count": 22,
   "id": "245d5e8f",
   "metadata": {},
   "outputs": [],
   "source": [
    "y = df['review_score']"
   ]
  },
  {
   "cell_type": "code",
   "execution_count": 23,
   "id": "00d10086",
   "metadata": {},
   "outputs": [],
   "source": [
    "X = pd.get_dummies(data=X, drop_first=True)"
   ]
  },
  {
   "cell_type": "code",
   "execution_count": 24,
   "id": "8f5babdf",
   "metadata": {},
   "outputs": [
    {
     "data": {
      "text/plain": [
       "True"
      ]
     },
     "execution_count": 24,
     "metadata": {},
     "output_type": "execute_result"
    }
   ],
   "source": [
    "len(X) == len(y)"
   ]
  },
  {
   "cell_type": "code",
   "execution_count": 25,
   "id": "87b80e0b",
   "metadata": {},
   "outputs": [
    {
     "name": "stdout",
     "output_type": "stream",
     "text": [
      "112657\n"
     ]
    }
   ],
   "source": [
    "print(len(X))"
   ]
  },
  {
   "cell_type": "code",
   "execution_count": 26,
   "id": "1a650a62",
   "metadata": {
    "scrolled": true
   },
   "outputs": [
    {
     "name": "stdout",
     "output_type": "stream",
     "text": [
      "112657\n"
     ]
    }
   ],
   "source": [
    "print(len(y))"
   ]
  },
  {
   "cell_type": "code",
   "execution_count": 27,
   "id": "fd7745a5",
   "metadata": {},
   "outputs": [],
   "source": [
    "X_train, X_test, y_train, y_test = train_test_split(X, y, test_size = .30, random_state = 0)"
   ]
  },
  {
   "cell_type": "code",
   "execution_count": 28,
   "id": "bee18b75",
   "metadata": {},
   "outputs": [],
   "source": [
    "regression = linear_model.LinearRegression()"
   ]
  },
  {
   "cell_type": "code",
   "execution_count": 29,
   "id": "6c2b1be1",
   "metadata": {},
   "outputs": [
    {
     "data": {
      "text/plain": [
       "LinearRegression()"
      ]
     },
     "execution_count": 29,
     "metadata": {},
     "output_type": "execute_result"
    }
   ],
   "source": [
    "regression.fit(X_train, y_train)"
   ]
  },
  {
   "cell_type": "code",
   "execution_count": 31,
   "id": "635bb329",
   "metadata": {},
   "outputs": [],
   "source": [
    "y_predicted = regression.predict(X_test)"
   ]
  },
  {
   "cell_type": "code",
   "execution_count": 32,
   "id": "0e8fc5f3",
   "metadata": {},
   "outputs": [
    {
     "data": {
      "text/plain": [
       "array([2.42290749, 3.91068447, 4.09670518, ..., 4.29922154, 4.15106635,\n",
       "       4.28566565])"
      ]
     },
     "execution_count": 32,
     "metadata": {},
     "output_type": "execute_result"
    }
   ],
   "source": [
    "y_predicted"
   ]
  },
  {
   "cell_type": "code",
   "execution_count": 33,
   "id": "f6a69bec",
   "metadata": {},
   "outputs": [],
   "source": [
    "# Create objects that contain the model summary statistics.\n",
    "\n",
    "rmse = mean_squared_error(y_test, y_predicted) # This is the mean squared error\n",
    "r2 = r2_score(y_test, y_predicted) # This is the R2 score. "
   ]
  },
  {
   "cell_type": "code",
   "execution_count": 34,
   "id": "93382e08",
   "metadata": {},
   "outputs": [
    {
     "name": "stdout",
     "output_type": "stream",
     "text": [
      "Slope: [-5.69811321e-01 -5.58638083e-01 -6.09507042e-01 -6.35635359e-01\n",
      " -6.87177078e-01 -6.99870394e-01 -7.00778463e-01 -7.14334355e-01\n",
      " -7.66397479e-01 -8.04316248e-01 -7.97557114e-01 -8.26332596e-01\n",
      " -7.98048252e-01 -8.48933649e-01 -8.93030190e-01 -9.03294822e-01\n",
      " -9.75561097e-01 -1.03379828e+00 -9.62752525e-01 -1.08432935e+00\n",
      " -1.08931553e+00 -1.24556738e+00 -1.35874439e+00 -1.31382316e+00\n",
      " -1.50289017e+00 -1.52380952e+00 -1.53320313e+00 -1.93790150e+00\n",
      " -2.00714286e+00 -2.00298507e+00 -2.25159236e+00 -2.29020979e+00\n",
      " -2.33636364e+00 -2.53149606e+00 -2.57709251e+00 -2.62303665e+00\n",
      " -2.90384615e+00 -3.15441176e+00 -3.01408451e+00 -2.85294118e+00\n",
      " -3.04545455e+00 -3.02752294e+00 -3.14953271e+00 -3.00000000e+00\n",
      " -3.21739130e+00 -3.42696629e+00 -3.64516129e+00 -3.16000000e+00\n",
      " -3.52272727e+00 -3.25000000e+00 -3.60526316e+00 -2.78260870e+00\n",
      " -3.41666667e+00 -3.06896552e+00 -3.73333333e+00 -3.32258065e+00\n",
      " -3.27777778e+00 -3.00000000e+00 -3.64705882e+00 -3.41176471e+00\n",
      " -3.07692308e+00 -3.25000000e+00 -2.37500000e+00 -2.66666667e+00\n",
      " -4.00000000e+00 -2.20000000e+00 -3.50000000e+00 -2.46153846e+00\n",
      " -3.42857143e+00 -3.07692308e+00 -2.75000000e+00 -2.33333333e+00\n",
      " -3.66666667e+00 -2.50000000e+00 -3.14285714e+00 -2.60000000e+00\n",
      " -4.00000000e+00 -4.00000000e+00 -4.00000000e+00 -4.00000000e+00\n",
      " -2.00000000e+00 -2.00000000e+00 -2.00000000e+00 -3.00000000e+00\n",
      " -4.00000000e+00 -2.60000000e+00 -4.00000000e+00 -4.00000000e+00\n",
      " -4.00000000e+00 -3.50000000e+00 -1.00000000e+00 -4.00000000e+00\n",
      " -2.50000000e+00 -4.00000000e+00 -4.99700975e-12 -1.00000000e+00\n",
      " -4.99063291e-12  1.33226763e-15 -4.00000000e+00 -4.99628117e-12\n",
      " -4.00000000e+00 -2.50000000e+00 -2.00000000e+00 -4.00000000e+00\n",
      " -5.01534925e-12 -4.00000000e+00 -1.00000000e+00 -4.00000000e+00\n",
      " -2.22044605e-15 -4.99618402e-12  1.11022302e-16 -4.00000000e+00\n",
      " -3.00000000e+00 -5.01711866e-12 -1.00000000e+00 -5.03490305e-12\n",
      " -4.00000000e+00 -4.00000000e+00 -5.01581415e-12 -1.00000000e+00\n",
      " -1.00000000e+00 -4.00000000e+00 -1.66666667e+00 -4.99702363e-12\n",
      "  2.13162821e-14  0.00000000e+00 -1.00000000e+00  0.00000000e+00\n",
      " -4.97996089e-12 -4.20236762e-16 -4.44089210e-16 -2.00000000e+00\n",
      " -4.00000000e+00 -4.00000000e+00 -1.00000000e+00 -2.50000000e+00\n",
      " -4.00000000e+00 -3.00000000e+00]\n",
      "Mean squared error:  1.5967377795777824\n",
      "R2 score:  0.11545781152229084\n"
     ]
    }
   ],
   "source": [
    "# Print the model summary statistics. This is where you evaluate the performance of the model.\n",
    "\n",
    "print('Slope:' ,regression.coef_)\n",
    "print('Mean squared error: ', rmse)\n",
    "print('R2 score: ', r2)"
   ]
  },
  {
   "cell_type": "code",
   "execution_count": 35,
   "id": "73585cf4",
   "metadata": {
    "scrolled": true
   },
   "outputs": [
    {
     "data": {
      "text/plain": [
       "array([2.42290749, 3.91068447, 4.09670518, ..., 4.29922154, 4.15106635,\n",
       "       4.28566565])"
      ]
     },
     "execution_count": 35,
     "metadata": {},
     "output_type": "execute_result"
    }
   ],
   "source": [
    "y_predicted"
   ]
  },
  {
   "cell_type": "code",
   "execution_count": 36,
   "id": "d14c4d7a",
   "metadata": {
    "scrolled": true
   },
   "outputs": [
    {
     "data": {
      "text/plain": [
       "(33798,)"
      ]
     },
     "execution_count": 36,
     "metadata": {},
     "output_type": "execute_result"
    }
   ],
   "source": [
    "y_test.shape"
   ]
  },
  {
   "cell_type": "code",
   "execution_count": 37,
   "id": "6341665e",
   "metadata": {
    "scrolled": true
   },
   "outputs": [
    {
     "data": {
      "text/plain": [
       "(33798, 138)"
      ]
     },
     "execution_count": 37,
     "metadata": {},
     "output_type": "execute_result"
    }
   ],
   "source": [
    "X_test.shape"
   ]
  },
  {
   "cell_type": "code",
   "execution_count": 38,
   "id": "356c27fc",
   "metadata": {},
   "outputs": [],
   "source": [
    "##### Compare how the regression fits the training set"
   ]
  },
  {
   "cell_type": "code",
   "execution_count": 39,
   "id": "b389e89c",
   "metadata": {},
   "outputs": [],
   "source": [
    "# Predict.\n",
    "\n",
    "y_predicted_train = regression.predict(X_train) # This is predicting X_train!"
   ]
  },
  {
   "cell_type": "code",
   "execution_count": 40,
   "id": "02f98d99",
   "metadata": {},
   "outputs": [],
   "source": [
    "rmse = mean_squared_error(y_train, y_predicted_train)\n",
    "r2 = r2_score(y_train, y_predicted_train)"
   ]
  },
  {
   "cell_type": "code",
   "execution_count": 41,
   "id": "4aec40f7",
   "metadata": {},
   "outputs": [
    {
     "name": "stdout",
     "output_type": "stream",
     "text": [
      "Slope: [-5.69811321e-01 -5.58638083e-01 -6.09507042e-01 -6.35635359e-01\n",
      " -6.87177078e-01 -6.99870394e-01 -7.00778463e-01 -7.14334355e-01\n",
      " -7.66397479e-01 -8.04316248e-01 -7.97557114e-01 -8.26332596e-01\n",
      " -7.98048252e-01 -8.48933649e-01 -8.93030190e-01 -9.03294822e-01\n",
      " -9.75561097e-01 -1.03379828e+00 -9.62752525e-01 -1.08432935e+00\n",
      " -1.08931553e+00 -1.24556738e+00 -1.35874439e+00 -1.31382316e+00\n",
      " -1.50289017e+00 -1.52380952e+00 -1.53320313e+00 -1.93790150e+00\n",
      " -2.00714286e+00 -2.00298507e+00 -2.25159236e+00 -2.29020979e+00\n",
      " -2.33636364e+00 -2.53149606e+00 -2.57709251e+00 -2.62303665e+00\n",
      " -2.90384615e+00 -3.15441176e+00 -3.01408451e+00 -2.85294118e+00\n",
      " -3.04545455e+00 -3.02752294e+00 -3.14953271e+00 -3.00000000e+00\n",
      " -3.21739130e+00 -3.42696629e+00 -3.64516129e+00 -3.16000000e+00\n",
      " -3.52272727e+00 -3.25000000e+00 -3.60526316e+00 -2.78260870e+00\n",
      " -3.41666667e+00 -3.06896552e+00 -3.73333333e+00 -3.32258065e+00\n",
      " -3.27777778e+00 -3.00000000e+00 -3.64705882e+00 -3.41176471e+00\n",
      " -3.07692308e+00 -3.25000000e+00 -2.37500000e+00 -2.66666667e+00\n",
      " -4.00000000e+00 -2.20000000e+00 -3.50000000e+00 -2.46153846e+00\n",
      " -3.42857143e+00 -3.07692308e+00 -2.75000000e+00 -2.33333333e+00\n",
      " -3.66666667e+00 -2.50000000e+00 -3.14285714e+00 -2.60000000e+00\n",
      " -4.00000000e+00 -4.00000000e+00 -4.00000000e+00 -4.00000000e+00\n",
      " -2.00000000e+00 -2.00000000e+00 -2.00000000e+00 -3.00000000e+00\n",
      " -4.00000000e+00 -2.60000000e+00 -4.00000000e+00 -4.00000000e+00\n",
      " -4.00000000e+00 -3.50000000e+00 -1.00000000e+00 -4.00000000e+00\n",
      " -2.50000000e+00 -4.00000000e+00 -4.99700975e-12 -1.00000000e+00\n",
      " -4.99063291e-12  1.33226763e-15 -4.00000000e+00 -4.99628117e-12\n",
      " -4.00000000e+00 -2.50000000e+00 -2.00000000e+00 -4.00000000e+00\n",
      " -5.01534925e-12 -4.00000000e+00 -1.00000000e+00 -4.00000000e+00\n",
      " -2.22044605e-15 -4.99618402e-12  1.11022302e-16 -4.00000000e+00\n",
      " -3.00000000e+00 -5.01711866e-12 -1.00000000e+00 -5.03490305e-12\n",
      " -4.00000000e+00 -4.00000000e+00 -5.01581415e-12 -1.00000000e+00\n",
      " -1.00000000e+00 -4.00000000e+00 -1.66666667e+00 -4.99702363e-12\n",
      "  2.13162821e-14  0.00000000e+00 -1.00000000e+00  0.00000000e+00\n",
      " -4.97996089e-12 -4.20236762e-16 -4.44089210e-16 -2.00000000e+00\n",
      " -4.00000000e+00 -4.00000000e+00 -1.00000000e+00 -2.50000000e+00\n",
      " -4.00000000e+00 -3.00000000e+00]\n",
      "Mean squared error:  1.5958082922667851\n",
      "R2 score:  0.12092055242753252\n"
     ]
    }
   ],
   "source": [
    "print('Slope:' ,regression.coef_)\n",
    "print('Mean squared error: ', rmse)\n",
    "print('R2 score: ', r2)"
   ]
  },
  {
   "cell_type": "code",
   "execution_count": 42,
   "id": "fe0472c0",
   "metadata": {},
   "outputs": [],
   "source": [
    "# Since the mean squared error is too high, this means that the linear regression may not be the best model to predict the review_score and there are more variables that could influence the results."
   ]
  },
  {
   "cell_type": "code",
   "execution_count": 43,
   "id": "da1477d7",
   "metadata": {},
   "outputs": [
    {
     "data": {
      "image/png": "[encoded data removed]",
      "text/plain": [
       "<Figure size 432x288 with 1 Axes>"
      ]
     },
     "metadata": {
      "needs_background": "light"
     },
     "output_type": "display_data"
    }
   ],
   "source": [
    "# See how the scatterplot looks without outliers.\n",
    "\n",
    "df.plot(x = 'distance', y='payment_value', style='o')  \n",
    "plt.title('Distance vs payment')  \n",
    "plt.xlabel('Distance')  \n",
    "plt.ylabel('Value')  \n",
    "plt.show()"
   ]
  },
  {
   "cell_type": "code",
   "execution_count": 44,
   "id": "c6aa47eb",
   "metadata": {},
   "outputs": [],
   "source": [
    "X = df['distance'].values.reshape(-1,1)\n",
    "y = df['payment_value'].values.reshape(-1,1)"
   ]
  },
  {
   "cell_type": "code",
   "execution_count": 45,
   "id": "3fb7943c",
   "metadata": {},
   "outputs": [
    {
     "data": {
      "text/plain": [
       "array([[2399.699757],\n",
       "       [2662.455144],\n",
       "       [2340.750167],\n",
       "       ...,\n",
       "       [3195.001326],\n",
       "       [3490.802023],\n",
       "       [3490.802023]])"
      ]
     },
     "execution_count": 45,
     "metadata": {},
     "output_type": "execute_result"
    }
   ],
   "source": [
    "X"
   ]
  },
  {
   "cell_type": "code",
   "execution_count": 46,
   "id": "2533ec56",
   "metadata": {},
   "outputs": [
    {
     "data": {
      "text/plain": [
       "array([[ 18.3 ],\n",
       "       [289.45],\n",
       "       [ 57.75],\n",
       "       ...,\n",
       "       [ 48.94],\n",
       "       [273.22],\n",
       "       [273.22]])"
      ]
     },
     "execution_count": 46,
     "metadata": {},
     "output_type": "execute_result"
    }
   ],
   "source": [
    "y"
   ]
  },
  {
   "cell_type": "code",
   "execution_count": 47,
   "id": "f42252ab",
   "metadata": {},
   "outputs": [],
   "source": [
    "# Split data into a training set and a test set.\n",
    "\n",
    "X_train, X_test, y_train, y_test = train_test_split(X, y, test_size=0.3, random_state=0)"
   ]
  },
  {
   "cell_type": "code",
   "execution_count": 48,
   "id": "f8e1a670",
   "metadata": {},
   "outputs": [],
   "source": [
    "### 4. Regression analysis"
   ]
  },
  {
   "cell_type": "code",
   "execution_count": 49,
   "id": "17e8bbf2",
   "metadata": {},
   "outputs": [],
   "source": [
    "# Create a regression object.\n",
    "\n",
    "regression = LinearRegression()  # This is the regression object, which will be fit onto the training set."
   ]
  },
  {
   "cell_type": "code",
   "execution_count": 50,
   "id": "22b1997f",
   "metadata": {},
   "outputs": [
    {
     "data": {
      "text/plain": [
       "LinearRegression()"
      ]
     },
     "execution_count": 50,
     "metadata": {},
     "output_type": "execute_result"
    }
   ],
   "source": [
    "# Fit the regression object onto the training set.\n",
    "\n",
    "regression.fit(X_train, y_train)"
   ]
  },
  {
   "cell_type": "code",
   "execution_count": 51,
   "id": "fb9a6e6e",
   "metadata": {},
   "outputs": [],
   "source": [
    "# Predict the values of y using X.\n",
    "\n",
    "y_predicted = regression.predict(X_test)"
   ]
  },
  {
   "cell_type": "code",
   "execution_count": 52,
   "id": "5483844e",
   "metadata": {},
   "outputs": [
    {
     "data": {
      "image/png": "[encoded data removed]",
      "text/plain": [
       "<Figure size 432x288 with 1 Axes>"
      ]
     },
     "metadata": {
      "needs_background": "light"
     },
     "output_type": "display_data"
    }
   ],
   "source": [
    "# Create a plot that shows the regression line from the model on the test set.\n",
    "\n",
    "plot_test = plt\n",
    "plot_test.scatter(X_test, y_test, color='gray', s = 15)\n",
    "plot_test.plot(X_test, y_predicted, color='red', linewidth =3)\n",
    "plot_test.title('Distance  vs Payment Value (Test set)')\n",
    "plot_test.xlabel('Distance')\n",
    "plot_test.ylabel('Value')\n",
    "plot_test.show()"
   ]
  },
  {
   "cell_type": "code",
   "execution_count": 53,
   "id": "d499ada2",
   "metadata": {},
   "outputs": [],
   "source": [
    "# Create objects that contain the model summary statistics.\n",
    "\n",
    "rmse = mean_squared_error(y_test, y_predicted) # This is the mean squared error\n",
    "r2 = r2_score(y_test, y_predicted) # This is the R2 score. "
   ]
  },
  {
   "cell_type": "code",
   "execution_count": 54,
   "id": "b0bc3df9",
   "metadata": {},
   "outputs": [
    {
     "name": "stdout",
     "output_type": "stream",
     "text": [
      "Slope: [[0.01913007]]\n",
      "Mean squared error:  65973.79688871873\n",
      "R2 score:  0.0012840305599299828\n"
     ]
    }
   ],
   "source": [
    "# Print the model summary statistics. This is where you evaluate the performance of the model.\n",
    "\n",
    "print('Slope:' ,regression.coef_)\n",
    "print('Mean squared error: ', rmse)\n",
    "print('R2 score: ', r2)"
   ]
  },
  {
   "cell_type": "code",
   "execution_count": 55,
   "id": "6647970b",
   "metadata": {},
   "outputs": [
    {
     "data": {
      "text/plain": [
       "array([[164.10558926],\n",
       "       [164.83254422],\n",
       "       [178.89469556],\n",
       "       ...,\n",
       "       [175.77826881],\n",
       "       [170.82035014],\n",
       "       [164.62333057]])"
      ]
     },
     "execution_count": 55,
     "metadata": {},
     "output_type": "execute_result"
    }
   ],
   "source": [
    "y_predicted"
   ]
  },
  {
   "cell_type": "code",
   "execution_count": 56,
   "id": "f75aa04e",
   "metadata": {},
   "outputs": [
    {
     "data": {
      "text/html": [
       "<div>\n",
       "<style scoped>\n",
       "    .dataframe tbody tr th:only-of-type {\n",
       "        vertical-align: middle;\n",
       "    }\n",
       "\n",
       "    .dataframe tbody tr th {\n",
       "        vertical-align: top;\n",
       "    }\n",
       "\n",
       "    .dataframe thead th {\n",
       "        text-align: right;\n",
       "    }\n",
       "</style>\n",
       "<table border=\"1\" class=\"dataframe\">\n",
       "  <thead>\n",
       "    <tr style=\"text-align: right;\">\n",
       "      <th></th>\n",
       "      <th>Actual</th>\n",
       "      <th>Predicted</th>\n",
       "    </tr>\n",
       "  </thead>\n",
       "  <tbody>\n",
       "    <tr>\n",
       "      <th>0</th>\n",
       "      <td>64.82</td>\n",
       "      <td>164.105589</td>\n",
       "    </tr>\n",
       "    <tr>\n",
       "      <th>1</th>\n",
       "      <td>246.79</td>\n",
       "      <td>164.832544</td>\n",
       "    </tr>\n",
       "    <tr>\n",
       "      <th>2</th>\n",
       "      <td>204.34</td>\n",
       "      <td>178.894696</td>\n",
       "    </tr>\n",
       "    <tr>\n",
       "      <th>3</th>\n",
       "      <td>65.09</td>\n",
       "      <td>166.361511</td>\n",
       "    </tr>\n",
       "    <tr>\n",
       "      <th>4</th>\n",
       "      <td>93.56</td>\n",
       "      <td>160.442825</td>\n",
       "    </tr>\n",
       "    <tr>\n",
       "      <th>5</th>\n",
       "      <td>25.78</td>\n",
       "      <td>179.693444</td>\n",
       "    </tr>\n",
       "    <tr>\n",
       "      <th>6</th>\n",
       "      <td>96.65</td>\n",
       "      <td>162.654638</td>\n",
       "    </tr>\n",
       "    <tr>\n",
       "      <th>7</th>\n",
       "      <td>191.14</td>\n",
       "      <td>172.697214</td>\n",
       "    </tr>\n",
       "    <tr>\n",
       "      <th>8</th>\n",
       "      <td>277.08</td>\n",
       "      <td>209.418677</td>\n",
       "    </tr>\n",
       "    <tr>\n",
       "      <th>9</th>\n",
       "      <td>342.12</td>\n",
       "      <td>171.771760</td>\n",
       "    </tr>\n",
       "    <tr>\n",
       "      <th>10</th>\n",
       "      <td>264.09</td>\n",
       "      <td>172.324674</td>\n",
       "    </tr>\n",
       "    <tr>\n",
       "      <th>11</th>\n",
       "      <td>74.02</td>\n",
       "      <td>169.769929</td>\n",
       "    </tr>\n",
       "    <tr>\n",
       "      <th>12</th>\n",
       "      <td>37.19</td>\n",
       "      <td>170.762183</td>\n",
       "    </tr>\n",
       "    <tr>\n",
       "      <th>13</th>\n",
       "      <td>211.12</td>\n",
       "      <td>164.179276</td>\n",
       "    </tr>\n",
       "    <tr>\n",
       "      <th>14</th>\n",
       "      <td>163.81</td>\n",
       "      <td>162.576165</td>\n",
       "    </tr>\n",
       "    <tr>\n",
       "      <th>15</th>\n",
       "      <td>117.79</td>\n",
       "      <td>173.751792</td>\n",
       "    </tr>\n",
       "    <tr>\n",
       "      <th>16</th>\n",
       "      <td>372.99</td>\n",
       "      <td>200.157595</td>\n",
       "    </tr>\n",
       "    <tr>\n",
       "      <th>17</th>\n",
       "      <td>46.37</td>\n",
       "      <td>167.107005</td>\n",
       "    </tr>\n",
       "    <tr>\n",
       "      <th>18</th>\n",
       "      <td>77.68</td>\n",
       "      <td>168.359751</td>\n",
       "    </tr>\n",
       "    <tr>\n",
       "      <th>19</th>\n",
       "      <td>29.61</td>\n",
       "      <td>172.002922</td>\n",
       "    </tr>\n",
       "    <tr>\n",
       "      <th>20</th>\n",
       "      <td>138.07</td>\n",
       "      <td>172.177499</td>\n",
       "    </tr>\n",
       "    <tr>\n",
       "      <th>21</th>\n",
       "      <td>51.46</td>\n",
       "      <td>164.796151</td>\n",
       "    </tr>\n",
       "    <tr>\n",
       "      <th>22</th>\n",
       "      <td>627.66</td>\n",
       "      <td>196.876185</td>\n",
       "    </tr>\n",
       "    <tr>\n",
       "      <th>23</th>\n",
       "      <td>37.00</td>\n",
       "      <td>176.721771</td>\n",
       "    </tr>\n",
       "    <tr>\n",
       "      <th>24</th>\n",
       "      <td>66.10</td>\n",
       "      <td>187.116723</td>\n",
       "    </tr>\n",
       "    <tr>\n",
       "      <th>25</th>\n",
       "      <td>116.90</td>\n",
       "      <td>162.795258</td>\n",
       "    </tr>\n",
       "    <tr>\n",
       "      <th>26</th>\n",
       "      <td>120.78</td>\n",
       "      <td>173.441405</td>\n",
       "    </tr>\n",
       "    <tr>\n",
       "      <th>27</th>\n",
       "      <td>28.59</td>\n",
       "      <td>168.813000</td>\n",
       "    </tr>\n",
       "    <tr>\n",
       "      <th>28</th>\n",
       "      <td>116.94</td>\n",
       "      <td>162.441753</td>\n",
       "    </tr>\n",
       "    <tr>\n",
       "      <th>29</th>\n",
       "      <td>76.07</td>\n",
       "      <td>182.573782</td>\n",
       "    </tr>\n",
       "  </tbody>\n",
       "</table>\n",
       "</div>"
      ],
      "text/plain": [
       "    Actual   Predicted\n",
       "0    64.82  164.105589\n",
       "1   246.79  164.832544\n",
       "2   204.34  178.894696\n",
       "3    65.09  166.361511\n",
       "4    93.56  160.442825\n",
       "5    25.78  179.693444\n",
       "6    96.65  162.654638\n",
       "7   191.14  172.697214\n",
       "8   277.08  209.418677\n",
       "9   342.12  171.771760\n",
       "10  264.09  172.324674\n",
       "11   74.02  169.769929\n",
       "12   37.19  170.762183\n",
       "13  211.12  164.179276\n",
       "14  163.81  162.576165\n",
       "15  117.79  173.751792\n",
       "16  372.99  200.157595\n",
       "17   46.37  167.107005\n",
       "18   77.68  168.359751\n",
       "19   29.61  172.002922\n",
       "20  138.07  172.177499\n",
       "21   51.46  164.796151\n",
       "22  627.66  196.876185\n",
       "23   37.00  176.721771\n",
       "24   66.10  187.116723\n",
       "25  116.90  162.795258\n",
       "26  120.78  173.441405\n",
       "27   28.59  168.813000\n",
       "28  116.94  162.441753\n",
       "29   76.07  182.573782"
      ]
     },
     "execution_count": 56,
     "metadata": {},
     "output_type": "execute_result"
    }
   ],
   "source": [
    "# Create a dataframe comparing the actual and predicted values of y.\n",
    "\n",
    "data = pd.DataFrame({'Actual': y_test.flatten(), 'Predicted': y_predicted.flatten()})\n",
    "data.head(30)"
   ]
  },
  {
   "cell_type": "code",
   "execution_count": 57,
   "id": "9d9529f2",
   "metadata": {},
   "outputs": [],
   "source": [
    "##### Compare how the regression fits the training set"
   ]
  },
  {
   "cell_type": "code",
   "execution_count": 58,
   "id": "0b503c04",
   "metadata": {},
   "outputs": [],
   "source": [
    "# Predict.\n",
    "\n",
    "y_predicted_train = regression.predict(X_train) # This is predicting X_train!"
   ]
  },
  {
   "cell_type": "code",
   "execution_count": 59,
   "id": "9e512b09",
   "metadata": {},
   "outputs": [],
   "source": [
    "rmse = mean_squared_error(y_train, y_predicted_train)\n",
    "r2 = r2_score(y_train, y_predicted_train)"
   ]
  },
  {
   "cell_type": "code",
   "execution_count": 60,
   "id": "13d9ccb5",
   "metadata": {},
   "outputs": [
    {
     "name": "stdout",
     "output_type": "stream",
     "text": [
      "Slope: [[0.01913007]]\n",
      "Mean squared error:  71616.68083671838\n",
      "R2 score:  0.001149848613405502\n"
     ]
    }
   ],
   "source": [
    "print('Slope:' ,regression.coef_)\n",
    "print('Mean squared error: ', rmse)\n",
    "print('R2 score: ', r2)"
   ]
  },
  {
   "cell_type": "code",
   "execution_count": 61,
   "id": "468159ed",
   "metadata": {},
   "outputs": [
    {
     "data": {
      "image/png": "[encoded data removed]",
      "text/plain": [
       "<Figure size 432x288 with 1 Axes>"
      ]
     },
     "metadata": {
      "needs_background": "light"
     },
     "output_type": "display_data"
    }
   ],
   "source": [
    "# Visualizing the training set results.\n",
    "\n",
    "plot_test = plt\n",
    "plot_test.scatter(X_train, y_train, color='green', s = 15)\n",
    "plot_test.plot(X_train, y_predicted_train, color='red', linewidth =3)\n",
    "plot_test.title('Distance  vs Payment Value (Test set)')\n",
    "plot_test.xlabel('Distance')\n",
    "plot_test.ylabel('value')\n",
    "plot_test.show()"
   ]
  },
  {
   "cell_type": "code",
   "execution_count": null,
   "id": "c4395e21",
   "metadata": {},
   "outputs": [],
   "source": []
  }
 ],
 "metadata": {
  "kernelspec": {
   "display_name": "Python 3",
   "language": "python",
   "name": "python3"
  },
  "language_info": {
   "codemirror_mode": {
    "name": "ipython",
    "version": 3
   },
   "file_extension": ".py",
   "mimetype": "text/x-python",
   "name": "python",
   "nbconvert_exporter": "python",
   "pygments_lexer": "ipython3",
   "version": "3.8.8"
  }
 },
 "nbformat": 4,
 "nbformat_minor": 5
}
